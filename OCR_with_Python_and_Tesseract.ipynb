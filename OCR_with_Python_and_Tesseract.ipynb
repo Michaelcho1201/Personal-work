{
  "cells": [
    {
      "cell_type": "markdown",
      "metadata": {
        "id": "rIbhqe9I_b2k"
      },
      "source": [
        "# OCR with Python and Tesseract"
      ]
    },
    {
      "cell_type": "markdown",
      "metadata": {
        "id": "319v3qibRz_m"
      },
      "source": [
        "# Text recognition in images"
      ]
    },
    {
      "cell_type": "markdown",
      "metadata": {
        "id": "FvFt86KmCuDa"
      },
      "source": [
        "## Installing Tesseract\n",
        "\n",
        "- Documentation: https://pypi.org/project/pytesseract/"
      ]
    },
    {
      "cell_type": "code",
      "execution_count": null,
      "metadata": {
        "colab": {
          "base_uri": "https://localhost:8080/"
        },
        "id": "tQCrT9JGKPkV",
        "outputId": "25ec3357-34ca-4843-92fc-9e4d05ee0633"
      },
      "outputs": [],
      "source": []
    },
    {
      "cell_type": "markdown",
      "metadata": {
        "id": "dccg5fXACz0G"
      },
      "source": [
        "## Importing the libraries"
      ]
    },
    {
      "cell_type": "code",
      "execution_count": 5,
      "metadata": {
        "id": "vH-9OW5aKoWD"
      },
      "outputs": [],
      "source": [
        "import pytesseract\n",
        "import numpy as np\n",
        "import cv2 # OpenCV\n"
      ]
    },
    {
      "cell_type": "markdown",
      "metadata": {
        "id": "v4FGBw3zC21d"
      },
      "source": [
        "## Reading the image"
      ]
    },
    {
      "cell_type": "code",
      "execution_count": 6,
      "metadata": {
        "colab": {
          "base_uri": "https://localhost:8080/",
          "height": 294
        },
        "id": "QcitFo7ILIXs",
        "outputId": "9628356a-477e-4f40-a149-c3af38c431b3"
      },
      "outputs": [],
      "source": [
        "img = cv2.imread(\"C:/Users/micha/Screenshot 2025-05-08 103329.png\")\n",
        "cv2.imshow('image', img) # BGR -> RGB"
      ]
    },
    {
      "cell_type": "code",
      "execution_count": 7,
      "metadata": {
        "colab": {
          "base_uri": "https://localhost:8080/",
          "height": 294
        },
        "id": "tL-5c_N8MHtE",
        "outputId": "180db6d6-ce4b-46fb-9fe7-828c89b000d5"
      },
      "outputs": [],
      "source": [
        "rgb = cv2.cvtColor(img, cv2.COLOR_BGR2RGB)\n",
        "cv2.imshow(\"rgb\", rgb)\n",
        "pytesseract.pytesseract.tesseract_cmd = 'C:/Program Files/Tesseract-OCR/tesseract.exe'"
      ]
    },
    {
      "cell_type": "code",
      "execution_count": 8,
      "metadata": {
        "id": "HRdIUzHWNCUF"
      },
      "outputs": [
        {
          "name": "stdout",
          "output_type": "stream",
          "text": [
            "The moment man devoured the fruit of knowledge, he sealed his fate... Entrusting his future to the cards, man clings to\n",
            "a dim hope. Yes, the Arcana is the means by which all is revealed... Attaining one's dream requires a stern will and\n",
            "unfailing determination... The Arcana is the means by which all is revealed... The silent voice within one’s heart\n",
            "whispers the most profound wisdom... The Arcana is the means by which all is revealed... Celebrate life's grandeur... Its\n",
            "brilliance... its magnificence... The Arcana is the means by which all is revealed... Only courage in the face of doubt can\n",
            "lead one to the answer... The Arcana is the means by which all is revealed... It is indeed a precious gift to understand\n",
            "the forces that guide oneself... The Arcana is the means by which all is revealed... There is both joy and wonder in\n",
            "coming to understand another... The Arcana is the means by which all is revealed... There is both joy and wonder in\n",
            "coming to understand another... The Arcana is the means by which all is revealed... One of life's greatest blessings is\n",
            "the freedom to pursue one's goals... The Arcana is the means by which all is revealed... To find the one true path, one\n",
            "must seek guidance amidst uncertainty... The Arcana is the means by which all is revealed... It requires great courage to\n",
            "look at oneself honestly, and forge one’s own path... The Arcana is the means by which all is revealed... Alongside time\n",
            "exists fate, the bearer of cruelty... The Arcana is the means by which all is revealed... Only with strength can one endure\n",
            "suffering and torment... The Arcana is the means by which all is revealed... In the face of disaster lies opportunity for\n",
            "renewal. The moment man devoured the fruit of knowledge, he sealed his fate... Entrusting his future to the cards, man\n",
            "clings to a dim hope. Yet, the Arcana is the means by which all is revealed... Beyond the beaten path lies the absolute\n",
            "end. It matters not who you are... Death awaits you.\n",
            "\n"
          ]
        }
      ],
      "source": [
        "text = pytesseract.image_to_string(rgb)\n",
        "print(text)"
      ]
    }
  ],
  "metadata": {
    "colab": {
      "provenance": []
    },
    "kernelspec": {
      "display_name": "Python 3",
      "name": "python3"
    },
    "language_info": {
      "codemirror_mode": {
        "name": "ipython",
        "version": 3
      },
      "file_extension": ".py",
      "mimetype": "text/x-python",
      "name": "python",
      "nbconvert_exporter": "python",
      "pygments_lexer": "ipython3",
      "version": "3.12.10"
    }
  },
  "nbformat": 4,
  "nbformat_minor": 0
}
